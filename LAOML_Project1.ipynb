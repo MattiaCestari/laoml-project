{
 "cells": [
  {
   "cell_type": "code",
   "execution_count": 80,
   "id": "c34894b0",
   "metadata": {},
   "outputs": [],
   "source": [
    "import pandas as pd\n",
    "import numpy as np\n",
    "import random"
   ]
  },
  {
   "cell_type": "markdown",
   "id": "583ac712",
   "metadata": {},
   "source": [
    "**Exercise 1**"
   ]
  },
  {
   "cell_type": "code",
   "execution_count": 79,
   "id": "52c0252a",
   "metadata": {},
   "outputs": [],
   "source": [
    "def load_Xy(data):\n",
    "    data = pd.read_csv(data)\n",
    "    data_array = data.to_numpy()\n",
    "    X,y = data_array[:,:-1], data_array[:,-1]\n",
    "    y[y==0] = -1 \n",
    "    return X,y\n",
    "\n",
    "data = load_Xy('data.csv')\n"
   ]
  },
  {
   "cell_type": "markdown",
   "id": "fd438eba",
   "metadata": {},
   "source": [
    "**Exercise 2**"
   ]
  },
  {
   "cell_type": "code",
   "execution_count": 84,
   "id": "bd01f11f",
   "metadata": {},
   "outputs": [
    {
     "name": "stdout",
     "output_type": "stream",
     "text": [
      "0.35406624423881894\n"
     ]
    }
   ],
   "source": [
    "def train_test_random(X,y)\n",
    "    r = random.random()\n",
    "    return X_train, X_test, y_train, y_test"
   ]
  },
  {
   "cell_type": "markdown",
   "id": "e453d3f3",
   "metadata": {},
   "source": [
    "**Exercise 3**"
   ]
  },
  {
   "cell_type": "markdown",
   "id": "0c1cb3c8",
   "metadata": {},
   "source": [
    "**Exercise 4**"
   ]
  },
  {
   "cell_type": "markdown",
   "id": "297a5cda",
   "metadata": {},
   "source": [
    "**Exercise 5**"
   ]
  },
  {
   "cell_type": "markdown",
   "id": "ef2eac1c",
   "metadata": {},
   "source": [
    "**Exercise 6**"
   ]
  },
  {
   "cell_type": "code",
   "execution_count": null,
   "id": "1891a70a",
   "metadata": {},
   "outputs": [],
   "source": []
  },
  {
   "cell_type": "code",
   "execution_count": null,
   "id": "038b03fb",
   "metadata": {},
   "outputs": [],
   "source": []
  }
 ],
 "metadata": {
  "kernelspec": {
   "display_name": "Python 3",
   "language": "python",
   "name": "python3"
  },
  "language_info": {
   "codemirror_mode": {
    "name": "ipython",
    "version": 3
   },
   "file_extension": ".py",
   "mimetype": "text/x-python",
   "name": "python",
   "nbconvert_exporter": "python",
   "pygments_lexer": "ipython3",
   "version": "3.8.8"
  }
 },
 "nbformat": 4,
 "nbformat_minor": 5
}
