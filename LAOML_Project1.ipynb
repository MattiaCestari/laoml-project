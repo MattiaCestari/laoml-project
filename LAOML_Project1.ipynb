{
 "cells": [
  {
   "cell_type": "code",
   "execution_count": 4,
   "id": "c34894b0",
   "metadata": {},
   "outputs": [],
   "source": [
    "import pandas as pd\n",
    "import numpy as np\n",
    "import random"
   ]
  },
  {
   "cell_type": "markdown",
   "id": "583ac712",
   "metadata": {},
   "source": [
    "**Exercise 1**"
   ]
  },
  {
   "cell_type": "code",
   "execution_count": 5,
   "id": "52c0252a",
   "metadata": {},
   "outputs": [],
   "source": [
    "def load_Xy(path):\n",
    "\n",
    "    #Use built-in pandas function to read csv file into a dataframe\n",
    "    df = pd.read_csv(path)\n",
    "\n",
    "    #Convert the dataframe to a numpy array\n",
    "    data_array = df.to_numpy()\n",
    "\n",
    "    #Separate the features X from the labels y\n",
    "    X,y = data_array[:,:-1], data_array[:,-1]\n",
    "\n",
    "    #Replace the 0 label with -1\n",
    "    y[y==0] = -1 \n",
    "\n",
    "    #return X and y\n",
    "    return X,y\n"
   ]
  },
  {
   "cell_type": "code",
   "execution_count": 6,
   "id": "248b9ea3",
   "metadata": {},
   "outputs": [],
   "source": [
    "#Call the function and load the data\n",
    "X,y = load_Xy('data.csv')"
   ]
  },
  {
   "cell_type": "code",
   "execution_count": 7,
   "id": "60bf43c4",
   "metadata": {},
   "outputs": [
    {
     "data": {
      "text/plain": [
       "14632"
      ]
     },
     "execution_count": 7,
     "metadata": {},
     "output_type": "execute_result"
    }
   ],
   "source": [
    "#Count how many malicious apps there are\n",
    "# Filter the y array only where y == -1, then get its dimensions, and then its length\n",
    "y[ y==-1 ].shape[0]"
   ]
  },
  {
   "cell_type": "code",
   "execution_count": 8,
   "id": "5b12da99",
   "metadata": {},
   "outputs": [
    {
     "name": "stdout",
     "output_type": "stream",
     "text": [
      "Non-zero entries: 277180\n",
      "Total entries: 2522552\n",
      "Ratio: 0.10988078739308446\n"
     ]
    }
   ],
   "source": [
    "#Let's count how many non-zero entries are in X\n",
    "non_zero_entries = X[X!=0].shape[0]\n",
    "\n",
    "#Total elements in X\n",
    "tot_entries = X.shape[0]*X.shape[1]\n",
    "\n",
    "print(\"Non-zero entries: {}\".format(non_zero_entries))\n",
    "print(\"Total entries: {}\".format(tot_entries))\n",
    "print(\"Ratio: {}\".format(non_zero_entries/tot_entries))"
   ]
  },
  {
   "cell_type": "markdown",
   "id": "b93e843e",
   "metadata": {},
   "source": [
    "Only the $10\\%$ of the elements of the matrix $X$ are non-zero, thus $X$ has a sparsity of $90\\%$."
   ]
  },
  {
   "cell_type": "code",
   "execution_count": 9,
   "id": "826da837",
   "metadata": {},
   "outputs": [
    {
     "data": {
      "text/plain": [
       "array([0, 1], dtype=int64)"
      ]
     },
     "execution_count": 9,
     "metadata": {},
     "output_type": "execute_result"
    }
   ],
   "source": [
    "np.unique(X)"
   ]
  },
  {
   "cell_type": "markdown",
   "id": "fd438eba",
   "metadata": {},
   "source": [
    "**Exercise 2**"
   ]
  },
  {
   "cell_type": "code",
   "execution_count": null,
   "id": "7633f57c",
   "metadata": {},
   "outputs": [],
   "source": []
  },
  {
   "cell_type": "code",
   "execution_count": 46,
   "id": "bd01f11f",
   "metadata": {},
   "outputs": [],
   "source": [
    "def train_test_random(X,y):    \n",
    "    r = 0.8\n",
    "    train_size = int(y.size*r)\n",
    "    index = range(y.size)\n",
    "    index_train = random.sample(index, train_size)\n",
    "    index_train.sort()\n",
    "    y_train = []\n",
    "    y_test = []\n",
    "    X_train = []\n",
    "    X_test = []\n",
    "    for i in range(y.size):\n",
    "        if i in index_train:\n",
    "            y_train.append(y[i])\n",
    "            X_train.append(X[i,:])\n",
    "        else:\n",
    "            y_test.append(y[i])\n",
    "            X_test.append(X[i,:])\n",
    "    X_train = np.vstack(X_train)\n",
    "    X_test = np.vstack(X_test)\n",
    "    return X_train, X_test, y_train, y_test\n",
    "X_train, X_test, y_train, y_test = train_test_random(X,y)"
   ]
  },
  {
   "cell_type": "markdown",
   "id": "e453d3f3",
   "metadata": {},
   "source": [
    "**Exercise 3**"
   ]
  },
  {
   "cell_type": "markdown",
   "id": "0c1cb3c8",
   "metadata": {},
   "source": [
    "**Exercise 4**"
   ]
  },
  {
   "cell_type": "markdown",
   "id": "297a5cda",
   "metadata": {},
   "source": [
    "**Exercise 5**"
   ]
  },
  {
   "cell_type": "markdown",
   "id": "ef2eac1c",
   "metadata": {},
   "source": [
    "**Exercise 6**"
   ]
  },
  {
   "cell_type": "code",
   "execution_count": null,
   "id": "1891a70a",
   "metadata": {},
   "outputs": [],
   "source": []
  },
  {
   "cell_type": "code",
   "execution_count": null,
   "id": "038b03fb",
   "metadata": {},
   "outputs": [],
   "source": []
  }
 ],
 "metadata": {
  "kernelspec": {
   "display_name": "base",
   "language": "python",
   "name": "python3"
  },
  "language_info": {
   "codemirror_mode": {
    "name": "ipython",
    "version": 3
   },
   "file_extension": ".py",
   "mimetype": "text/x-python",
   "name": "python",
   "nbconvert_exporter": "python",
   "pygments_lexer": "ipython3",
   "version": "3.8.8"
  }
 },
 "nbformat": 4,
 "nbformat_minor": 5
}
